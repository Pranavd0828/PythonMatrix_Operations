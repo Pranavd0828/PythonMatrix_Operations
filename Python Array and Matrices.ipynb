{
 "cells": [
  {
   "cell_type": "code",
   "execution_count": 1,
   "metadata": {},
   "outputs": [],
   "source": [
    "import numpy as np\n",
    "import array as ar\n",
    "import pandas as pd\n",
    "from scipy import *\n",
    "import torch"
   ]
  },
  {
   "cell_type": "code",
   "execution_count": 2,
   "metadata": {},
   "outputs": [
    {
     "name": "stdout",
     "output_type": "stream",
     "text": [
      "[5, 4, 9, 1, 4]\n"
     ]
    }
   ],
   "source": [
    "# Write a Python program to create an array of 5 integers and display the array items. \n",
    "\n",
    "x=np.random.randint(0,10,5)\n",
    "\n",
    "arr=ar.array(\"i\",[i for i in x])\n",
    "\n",
    "print(arr.tolist())"
   ]
  },
  {
   "cell_type": "code",
   "execution_count": 3,
   "metadata": {},
   "outputs": [
    {
     "name": "stdout",
     "output_type": "stream",
     "text": [
      "Before: \n",
      "[5, 4, 7, 3, 9]\n",
      "Enter value to append: 4\n",
      "After: \n",
      "[5, 4, 7, 3, 9, 4]\n"
     ]
    }
   ],
   "source": [
    "# Write a Python program to append a new item to the end of the array.\n",
    "\n",
    "x=np.random.randint(0,10,5)\n",
    "\n",
    "arr=ar.array(\"i\",[i for i in x])\n",
    "\n",
    "print(\"Before: \")\n",
    "print(arr.tolist())\n",
    "\n",
    "arr.append(int(input(\"Enter value to append: \")))\n",
    "\n",
    "print(\"After: \")\n",
    "print(arr.tolist())"
   ]
  },
  {
   "cell_type": "code",
   "execution_count": 4,
   "metadata": {},
   "outputs": [
    {
     "name": "stdout",
     "output_type": "stream",
     "text": [
      "Before: \n",
      "[5, 6, 6, 2, 5]\n",
      "After: \n",
      "[5, 2, 6, 6, 5]\n"
     ]
    }
   ],
   "source": [
    "# Write a Python program to reverse the order of the items in the array.\n",
    "\n",
    "x=np.random.randint(0,10,5)\n",
    "\n",
    "arr=ar.array(\"i\",[i for i in x])\n",
    "\n",
    "print(\"Before: \")\n",
    "print(arr.tolist())\n",
    "\n",
    "print(\"After: \")\n",
    "print(arr[::-1].tolist())"
   ]
  },
  {
   "cell_type": "code",
   "execution_count": 5,
   "metadata": {},
   "outputs": [
    {
     "name": "stdout",
     "output_type": "stream",
     "text": [
      "[8, 9, 5, 4, 7, 5, 1, 1, 8, 2, 0, 1, 3, 2, 7, 6, 9, 0, 8, 9, 8, 1, 0, 4, 0, 2, 5, 5, 9, 0]\n",
      "\n",
      "Enter value whose occurence needs to be estimated in the array: 5\n",
      "No. of Occurrence:  4\n"
     ]
    }
   ],
   "source": [
    "# Write a Python program to get the number of occurrences of a specified element in an array.\n",
    "\n",
    "x=np.random.randint(0,10,30)\n",
    "\n",
    "arr=ar.array(\"i\",[i for i in x])\n",
    "\n",
    "print(arr.tolist())\n",
    "\n",
    "n=int(input(\"\\nEnter value whose occurence needs to be estimated in the array: \"))\n",
    "\n",
    "print(\"No. of Occurrence: \",arr.count(n))"
   ]
  },
  {
   "cell_type": "code",
   "execution_count": 6,
   "metadata": {},
   "outputs": [
    {
     "name": "stdout",
     "output_type": "stream",
     "text": [
      "Before: \n",
      "array('i', [0, 2, 9, 6, 2])\n",
      "After: \n",
      "array('i', [0, 2, 9, 6, 2, 0, 2, 9, 6, 2])\n"
     ]
    }
   ],
   "source": [
    "# Write a Python program to append items from inerrable to the end of the array.\n",
    "\n",
    "x=np.random.randint(0,10,5)\n",
    "\n",
    "arr=ar.array(\"i\",[i for i in x])\n",
    "\n",
    "print(\"Before: \")\n",
    "print(arr)\n",
    "\n",
    "print(\"After: \")\n",
    "arr.extend(arr)\n",
    "print(arr)"
   ]
  },
  {
   "cell_type": "code",
   "execution_count": 7,
   "metadata": {},
   "outputs": [
    {
     "name": "stdout",
     "output_type": "stream",
     "text": [
      "[[ True  True  True]\n",
      " [ True  True  True]\n",
      " [ True  True  True]]\n"
     ]
    }
   ],
   "source": [
    "# Create a 3x3 boolean array of all TRUE\n",
    "\n",
    "x=np.full((3,3), True, dtype=bool)\n",
    "\n",
    "print(x)"
   ]
  },
  {
   "cell_type": "code",
   "execution_count": 8,
   "metadata": {},
   "outputs": [
    {
     "name": "stdout",
     "output_type": "stream",
     "text": [
      "Before: \n",
      "[0 1 2 3 4 5 6 7 8 9]\n",
      "After: \n",
      "[1 3 5 7 9]\n"
     ]
    }
   ],
   "source": [
    "# Extract all odd numbers from arr\n",
    "\n",
    "x=np.arange(0,10)\n",
    "\n",
    "print(\"Before: \")\n",
    "print(x)\n",
    "\n",
    "print(\"After: \")\n",
    "print(x[x%2!=0])\n"
   ]
  },
  {
   "cell_type": "code",
   "execution_count": 9,
   "metadata": {},
   "outputs": [
    {
     "name": "stdout",
     "output_type": "stream",
     "text": [
      "Before: \n",
      "[0 1 2 3 4 5 6 7 8 9]\n",
      "\n",
      "After: \n",
      "[ 0 -1  2 -1  4 -1  6 -1  8 -1]\n"
     ]
    }
   ],
   "source": [
    "# Replace all odd numbers in arr with -1\n",
    "\n",
    "x=np.arange(0,10)\n",
    "\n",
    "print(\"Before: \")\n",
    "print(x)\n",
    "\n",
    "print(\"\\nAfter: \")\n",
    "x[x%2!=0]=-1\n",
    "print(x)"
   ]
  },
  {
   "cell_type": "code",
   "execution_count": 10,
   "metadata": {},
   "outputs": [
    {
     "name": "stdout",
     "output_type": "stream",
     "text": [
      "Before: \n",
      "[0 1 2 3 4 5 6 7 8 9]\n",
      "\n",
      "After: \n",
      "[ 0 -1  2 -1  4 -1  6 -1  8 -1]\n"
     ]
    }
   ],
   "source": [
    "# Replace all odd numbers in arr with -1\n",
    "\n",
    "x=np.arange(0,10)\n",
    "\n",
    "print(\"Before: \")\n",
    "print(x)\n",
    "\n",
    "print(\"\\nAfter: \")\n",
    "y=np.where(x%2==1,-1,x)\n",
    "print(y)"
   ]
  },
  {
   "cell_type": "code",
   "execution_count": 11,
   "metadata": {},
   "outputs": [
    {
     "name": "stdout",
     "output_type": "stream",
     "text": [
      "Before: \n",
      "[0 1 2 3 4 5 6 7 8 9]\n",
      "\n",
      "After: \n",
      "[[0 1 2 3 4]\n",
      " [5 6 7 8 9]]\n"
     ]
    }
   ],
   "source": [
    "# Convert a 1D array to a 2D array with 2 rows\n",
    "\n",
    "x=np.arange(0,10)\n",
    "print(\"Before: \")\n",
    "print(x)\n",
    "\n",
    "print(\"\\nAfter: \")\n",
    "x=x.reshape(2,5)\n",
    "print(x)"
   ]
  },
  {
   "cell_type": "code",
   "execution_count": 12,
   "metadata": {},
   "outputs": [
    {
     "name": "stdout",
     "output_type": "stream",
     "text": [
      "Before: \n",
      "a:\n",
      "\n",
      "[[0 1 2 3 4]\n",
      " [5 6 7 8 9]]\n",
      "b:\n",
      "\n",
      "[[1 1 1 1 1]\n",
      " [1 1 1 1 1]]\n",
      "\n",
      "After:\n",
      "\n",
      "[[0 1 2 3 4]\n",
      " [5 6 7 8 9]\n",
      " [1 1 1 1 1]\n",
      " [1 1 1 1 1]]\n"
     ]
    }
   ],
   "source": [
    "# Stack arrays a and b vertically\n",
    "\n",
    "a = np.arange(10).reshape(2,-1)\n",
    "b = np.repeat(1, 10).reshape(2,-1)\n",
    "print(\"Before: \")\n",
    "print(\"a:\\n\")\n",
    "print(a)\n",
    "print(\"b:\\n\")\n",
    "print(b)\n",
    "\n",
    "print(\"\\nAfter:\\n\")\n",
    "x=np.vstack([a,b])\n",
    "print(x)\n"
   ]
  },
  {
   "cell_type": "code",
   "execution_count": 13,
   "metadata": {},
   "outputs": [
    {
     "data": {
      "text/plain": [
       "array([[0, 1, 2, 3, 4],\n",
       "       [5, 6, 7, 8, 9],\n",
       "       [1, 1, 1, 1, 1],\n",
       "       [1, 1, 1, 1, 1]])"
      ]
     },
     "execution_count": 13,
     "metadata": {},
     "output_type": "execute_result"
    }
   ],
   "source": [
    "#Stack arrays a and b\n",
    "\n",
    "# Method 1:\n",
    "np.concatenate([a, b], axis=0)\n",
    "\n",
    "# Method 2:\n",
    "np.vstack([a, b])\n",
    "\n",
    "# Method 3:\n",
    "np.r_[a, b]"
   ]
  },
  {
   "cell_type": "code",
   "execution_count": 14,
   "metadata": {},
   "outputs": [
    {
     "name": "stdout",
     "output_type": "stream",
     "text": [
      "Input:\n",
      "\n",
      "[1 2 3]\n",
      "\n",
      "Output:\n",
      "\n",
      "[1 1 1 2 2 2 3 3 3 1 2 3 1 2 3 1 2 3]\n"
     ]
    }
   ],
   "source": [
    "# Create the following pattern without hardcoding. Use only numpy functions and the below input array a\n",
    "# Input: a = np.array([1,2,3])\n",
    "# Desierd Output: array([1, 1, 1, 2, 2, 2, 3, 3, 3, 1, 2, 3, 1, 2, 3, 1, 2, 3])\n",
    "\n",
    "a=np.array([1,2,3])\n",
    "print(\"Input:\\n\")\n",
    "print(a)\n",
    "\n",
    "print(\"\\nOutput:\\n\")\n",
    "x=np.r_[np.repeat(a,3), np.tile(a,3)]\n",
    "print(x)"
   ]
  },
  {
   "cell_type": "code",
   "execution_count": 15,
   "metadata": {},
   "outputs": [
    {
     "name": "stdout",
     "output_type": "stream",
     "text": [
      "[2 4]\n"
     ]
    }
   ],
   "source": [
    "# Get the common items between a and b\n",
    "\n",
    "a = np.array([1,2,3,2,3,4,3,4,5,6])\n",
    "b = np.array([7,2,10,2,7,4,9,4,9,8])\n",
    "\n",
    "x=np.intersect1d(a,b)\n",
    "print(x)"
   ]
  },
  {
   "cell_type": "code",
   "execution_count": 16,
   "metadata": {},
   "outputs": [
    {
     "name": "stdout",
     "output_type": "stream",
     "text": [
      "[1 2 3 4]\n"
     ]
    }
   ],
   "source": [
    "# From array a remove all items present in array b\n",
    "\n",
    "a = np.array([1,2,3,4,5])\n",
    "b = np.array([5,6,7,8,9])\n",
    "\n",
    "c=np.setdiff1d(a,b)\n",
    "print(c)"
   ]
  },
  {
   "cell_type": "code",
   "execution_count": 17,
   "metadata": {},
   "outputs": [
    {
     "name": "stdout",
     "output_type": "stream",
     "text": [
      "[3 3 2 3 2 3 0 3 1 1 4 2 2 1 0 0 1 1 1 2]\n",
      "[0 0 4 3 0 1 3 4 3 4 4 2 4 1 3 2 1 2 4 2]\n",
      "(array([ 3, 10, 11, 13, 16, 19]),)\n"
     ]
    }
   ],
   "source": [
    "# Get the positions where elements of a and b match\n",
    "\n",
    "a=np.random.randint(0,5,20)\n",
    "b=np.random.randint(0,5,20)\n",
    "\n",
    "print(a)\n",
    "print(b)\n",
    "\n",
    "c=np.where(a==b)\n",
    "print(c)"
   ]
  },
  {
   "cell_type": "code",
   "execution_count": 18,
   "metadata": {},
   "outputs": [
    {
     "name": "stdout",
     "output_type": "stream",
     "text": [
      "[[ 99  63 128]\n",
      " [ 98  56 119]\n",
      " [ 89  65 106]]\n"
     ]
    }
   ],
   "source": [
    "# Get the dot product of two vectors\n",
    "\n",
    "a=np.random.randint(0,9,9)\n",
    "a=a.reshape(3,-1)\n",
    "\n",
    "b=np.random.randint(3,12,9)\n",
    "b=b.reshape(3,-1)\n",
    "\n",
    "d=np.dot(a,b)\n",
    "print(d)"
   ]
  },
  {
   "cell_type": "code",
   "execution_count": 19,
   "metadata": {},
   "outputs": [
    {
     "name": "stdout",
     "output_type": "stream",
     "text": [
      "\n",
      "Vector 1:\n",
      "\n",
      "[7 8 0 6 4 8 3 6 4 8]\n",
      "\n",
      "Vector 2:\n",
      "\n",
      "[0 5 5 4 5 2 0 2 7 8]\n",
      "\n",
      "Outer Product:\n",
      "\n",
      "[[ 0 35 35 28 35 14  0 14 49 56]\n",
      " [ 0 40 40 32 40 16  0 16 56 64]\n",
      " [ 0  0  0  0  0  0  0  0  0  0]\n",
      " [ 0 30 30 24 30 12  0 12 42 48]\n",
      " [ 0 20 20 16 20  8  0  8 28 32]\n",
      " [ 0 40 40 32 40 16  0 16 56 64]\n",
      " [ 0 15 15 12 15  6  0  6 21 24]\n",
      " [ 0 30 30 24 30 12  0 12 42 48]\n",
      " [ 0 20 20 16 20  8  0  8 28 32]\n",
      " [ 0 40 40 32 40 16  0 16 56 64]]\n"
     ]
    }
   ],
   "source": [
    "# Get the outer product of two vectors\n",
    "\n",
    "a=np.random.randint(0,9,10)\n",
    "b=np.random.randint(0,9,10)\n",
    "print(\"\\nVector 1:\\n\")\n",
    "print(a)\n",
    "print(\"\\nVector 2:\\n\")\n",
    "print(b)\n",
    "\n",
    "print(\"\\nOuter Product:\\n\")\n",
    "c=np.outer(a,b)\n",
    "print(c)\n"
   ]
  },
  {
   "cell_type": "code",
   "execution_count": 20,
   "metadata": {},
   "outputs": [
    {
     "name": "stdout",
     "output_type": "stream",
     "text": [
      "\n",
      "Matrix A:\n",
      "\n",
      "[[1 8 8]\n",
      " [2 4 8]\n",
      " [6 7 5]]\n",
      "\n",
      "Matrix B:\n",
      "\n",
      "[[8 1 5]\n",
      " [7 7 3]\n",
      " [0 6 0]]\n",
      "\n",
      "Cross Product: A X B:\n",
      "\n",
      "[[ 32  59 -63]\n",
      " [-44  50 -14]\n",
      " [-30   0  36]]\n",
      "\n",
      "Cross Product: B X A:\n",
      "\n",
      "[[-32 -59  63]\n",
      " [ 44 -50  14]\n",
      " [ 30   0 -36]]\n"
     ]
    }
   ],
   "source": [
    "# Get the cross product of two vectors\n",
    "\n",
    "a=random.randint(0,9,size=(3,3))\n",
    "b=random.randint(0,9,size=(3,3))\n",
    "\n",
    "print(\"\\nMatrix A:\\n\")\n",
    "print(a)\n",
    "print(\"\\nMatrix B:\\n\")\n",
    "print(b)\n",
    "\n",
    "print(\"\\nCross Product: A X B:\\n\")\n",
    "print(np.cross(a,b))\n",
    "\n",
    "print(\"\\nCross Product: B X A:\\n\")\n",
    "print(np.cross(b,a))\n"
   ]
  },
  {
   "cell_type": "code",
   "execution_count": 21,
   "metadata": {},
   "outputs": [
    {
     "name": "stdout",
     "output_type": "stream",
     "text": [
      "Matrix X:\n",
      "\n",
      "[[7 6 2]\n",
      " [4 2 4]\n",
      " [5 3 6]]\n",
      "\n",
      "Determinant of Matrix X:\n",
      "\n",
      "-20.0\n"
     ]
    }
   ],
   "source": [
    "# Get the determinant of a matrix\n",
    "\n",
    "x=random.randint(0,9,size=(3,3))\n",
    "print(\"Matrix X:\\n\")\n",
    "print(x)\n",
    "\n",
    "print(\"\\nDeterminant of Matrix X:\\n\")\n",
    "print(np.round(np.linalg.det(x),5))"
   ]
  },
  {
   "cell_type": "code",
   "execution_count": 22,
   "metadata": {},
   "outputs": [
    {
     "name": "stdout",
     "output_type": "stream",
     "text": [
      "\n",
      "Vector 1:\n",
      "\n",
      "[[4 4 4]\n",
      " [2 3 6]\n",
      " [6 0 7]]\n",
      "\n",
      "Vector 2:\n",
      "\n",
      "[[7 6 4]\n",
      " [4 0 1]\n",
      " [3 1 4]]\n",
      "\n",
      "Inner Product:\n",
      "\n",
      "[[68 20 32]\n",
      " [56 14 33]\n",
      " [70 31 46]]\n"
     ]
    }
   ],
   "source": [
    "# Get the inner product of two vectors\n",
    "\n",
    "a=np.random.randint(0,9,size=(3,3))\n",
    "b=np.random.randint(0,9,size=(3,3))\n",
    "print(\"\\nVector 1:\\n\")\n",
    "print(a)\n",
    "print(\"\\nVector 2:\\n\")\n",
    "print(b)\n",
    "\n",
    "print(\"\\nInner Product:\\n\")\n",
    "c=np.inner(a,b)\n",
    "print(c)"
   ]
  },
  {
   "cell_type": "code",
   "execution_count": 23,
   "metadata": {},
   "outputs": [
    {
     "name": "stdout",
     "output_type": "stream",
     "text": [
      "Matrix X:\n",
      "\n",
      "[[2 1 6]\n",
      " [8 4 4]\n",
      " [7 7 5]]\n",
      "\n",
      "Eigen Values :  [14.44116916+0.j         -1.72058458+2.59501342j -1.72058458-2.59501342j]\n",
      "\n",
      "Eigen Vectors:\n",
      "\n",
      " [[ 0.39231658+0.j         -0.44255892+0.43614022j -0.44255892-0.43614022j]\n",
      " [ 0.57549019+0.j          0.63263379+0.j          0.63263379-0.j        ]\n",
      " [ 0.71756445+0.j         -0.01964094-0.46185715j -0.01964094+0.46185715j]]\n"
     ]
    }
   ],
   "source": [
    "# Print the Eigen value and Eigen vector of the matrix\n",
    "\n",
    "x=random.randint(0,9,size=(3,3))\n",
    "print(\"Matrix X:\\n\")\n",
    "print(x)\n",
    "value,vect=np.linalg.eig(x)\n",
    "\n",
    "print(\"\\nEigen Values : \",value)\n",
    "print(\"\\nEigen Vectors:\\n\\n\",vect)"
   ]
  },
  {
   "cell_type": "code",
   "execution_count": 24,
   "metadata": {},
   "outputs": [
    {
     "name": "stdout",
     "output_type": "stream",
     "text": [
      "\n",
      "Matrix A:\n",
      "\n",
      "[[7 5 1]\n",
      " [8 0 8]\n",
      " [0 0 6]]\n",
      "\n",
      "Matrix B:\n",
      "\n",
      "[[6 8 1]\n",
      " [4 7 8]]\n",
      "\n",
      "Kronecker Product: A X B:\n",
      "\n",
      "[[42 56  7 30 40  5  6  8  1]\n",
      " [28 49 56 20 35 40  4  7  8]\n",
      " [48 64  8  0  0  0 48 64  8]\n",
      " [32 56 64  0  0  0 32 56 64]\n",
      " [ 0  0  0  0  0  0 36 48  6]\n",
      " [ 0  0  0  0  0  0 24 42 48]]\n"
     ]
    }
   ],
   "source": [
    "# Get the kronecker product of two matrix\n",
    "\n",
    "a=random.randint(0,9,size=(3,3))\n",
    "b=random.randint(0,9,size=(2,3))\n",
    "\n",
    "print(\"\\nMatrix A:\\n\")\n",
    "print(a)\n",
    "print(\"\\nMatrix B:\\n\")\n",
    "print(b)\n",
    "\n",
    "print(\"\\nKronecker Product: A X B:\\n\")\n",
    "print(np.kron(a,b))\n",
    "\n"
   ]
  },
  {
   "cell_type": "code",
   "execution_count": 25,
   "metadata": {},
   "outputs": [
    {
     "name": "stdout",
     "output_type": "stream",
     "text": [
      "Matrix X:\n",
      "\n",
      "[[3 0 5]\n",
      " [8 5 2]\n",
      " [1 8 5]]\n",
      "\n",
      "Condition Number for given Matrix-X:\n",
      " 2.988\n"
     ]
    }
   ],
   "source": [
    "x=random.randint(0,9,size=(3,3))\n",
    "print(\"Matrix X:\\n\")\n",
    "print(x)\n",
    "\n",
    "c=np.round(np.linalg.cond(x),3)\n",
    "print(\"\\nCondition Number for given Matrix-X:\\n\",c)"
   ]
  },
  {
   "cell_type": "code",
   "execution_count": 26,
   "metadata": {},
   "outputs": [
    {
     "name": "stdout",
     "output_type": "stream",
     "text": [
      "Matrix X:\n",
      "\n",
      "[[4 4 2]\n",
      " [1 3 1]\n",
      " [1 2 4]] \n",
      "\n",
      "Inverse of Matrix X:\n",
      "\n",
      "[[ 0.38461538 -0.46153846 -0.07692308]\n",
      " [-0.11538462  0.53846154 -0.07692308]\n",
      " [-0.03846154 -0.15384615  0.30769231]]\n"
     ]
    }
   ],
   "source": [
    "# Get the inverse of a matrix\n",
    "\n",
    "x=np.random.randint(1,5,size=(3,3))\n",
    "\n",
    "print(\"Matrix X:\\n\")\n",
    "print(x,\"\\n\")\n",
    "\n",
    "print(\"Inverse of Matrix X:\\n\")\n",
    "print(np.linalg.inv(x))"
   ]
  }
 ],
 "metadata": {
  "kernelspec": {
   "display_name": "Python 3.7 (tensorflow)",
   "language": "python",
   "name": "tensorflow"
  },
  "language_info": {
   "codemirror_mode": {
    "name": "ipython",
    "version": 3
   },
   "file_extension": ".py",
   "mimetype": "text/x-python",
   "name": "python",
   "nbconvert_exporter": "python",
   "pygments_lexer": "ipython3",
   "version": "3.7.4"
  }
 },
 "nbformat": 4,
 "nbformat_minor": 2
}
